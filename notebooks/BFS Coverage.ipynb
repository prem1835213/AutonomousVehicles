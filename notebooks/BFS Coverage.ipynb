{
 "cells": [
  {
   "cell_type": "code",
   "execution_count": 1,
   "metadata": {},
   "outputs": [],
   "source": [
    "import numpy as np\n",
    "import matplotlib.pyplot as plt\n",
    "import math\n",
    "from PIL import Image\n",
    "import cv2\n",
    "\n",
    "from copy import deepcopy\n",
    "\n",
    "# from queue import PriorityQueue"
   ]
  },
  {
   "cell_type": "code",
   "execution_count": 2,
   "metadata": {},
   "outputs": [
    {
     "data": {
      "text/plain": [
       "(12, 12)"
      ]
     },
     "execution_count": 2,
     "metadata": {},
     "output_type": "execute_result"
    }
   ],
   "source": [
    "# CONSTANTS\n",
    "\n",
    "ROBOT_WIDTH = 0.25\n",
    "ROBOT_HEIGHT = 0.25\n",
    "\n",
    "num_cols = math.ceil(3.0 / ROBOT_WIDTH) # field is 3m x 3m\n",
    "num_rows = math.ceil(3.0 / ROBOT_HEIGHT)\n",
    "\n",
    "world = np.zeros((num_rows, num_cols)) # each cell is 0.25m x 0.25m\n",
    "\n",
    "\n",
    "world.shape"
   ]
  },
  {
   "cell_type": "code",
   "execution_count": 4,
   "metadata": {},
   "outputs": [],
   "source": [
    "class PriorityQueue(object):\n",
    "    def __init__(self):\n",
    "        self.queue = []\n",
    " \n",
    "    def __str__(self):\n",
    "        return ' '.join([str(i) for i in self.queue])\n",
    " \n",
    "    # for checking if the queue is empty\n",
    "    def isEmpty(self):\n",
    "        return len(self.queue) == 0\n",
    " \n",
    "    # for inserting an element in the queue\n",
    "    def put(self, data):\n",
    "        self.queue.append(data)\n",
    " \n",
    "    # for popping an element based on Priority\n",
    "    def get(self):\n",
    "        try:\n",
    "            max_val = 0\n",
    "            for i in range(len(self.queue)):\n",
    "                if self.queue[i][0] < self.queue[max_val][0]:\n",
    "                    max_val = i\n",
    "            item = self.queue[max_val]\n",
    "            del self.queue[max_val]\n",
    "            return item\n",
    "        except IndexError:\n",
    "            print()\n",
    "            exit()"
   ]
  },
  {
   "cell_type": "code",
   "execution_count": 12,
   "metadata": {},
   "outputs": [],
   "source": [
    "class Node:\n",
    "    def __init__(self, x, y):\n",
    "        # numpy array is indexed by arr[y, x]\n",
    "        self.x = x\n",
    "        self.y = y\n",
    "        self.parent = None\n",
    "        self.f = 0\n",
    "        self.g = 0\n",
    "    \n",
    "    def __str__(self):\n",
    "        return \"x: {} y: {}\".format(self.x, self.y)\n",
    "    \n",
    "    def set_parent(self, n):\n",
    "        self.parent = n\n",
    "        \n",
    "    def get_parent(self):\n",
    "        return self.parent\n",
    "    \n",
    "    def set_f(self, f):\n",
    "        self.f = f\n",
    "        \n",
    "    def get_f(self):\n",
    "        return self.f\n",
    "        \n",
    "    def set_g(self, g):\n",
    "        self.g = g\n",
    "        \n",
    "    def get_g(self):\n",
    "        return self.g\n",
    "    \n",
    "    def get_x(self):\n",
    "        return self.x\n",
    "    \n",
    "    def get_y(self):\n",
    "        return self.y\n",
    "    \n",
    "    def __eq__(self, n):\n",
    "        return self.x == n.get_x() and self.y == n.get_y()\n",
    "    \n",
    "class Map:\n",
    "    def __init__(self, world_map):\n",
    "        self.map = world_map # 2D numpy boolean array, 1 means occupied\n",
    "        self.visited = []\n",
    "        \n",
    "    def visit(self, nodes):\n",
    "        self.visited += nodes\n",
    "        \n",
    "    def get_visited(self):\n",
    "        return self.visited\n",
    "    \n",
    "    def get_neighbors(self, n):\n",
    "        \"\"\"Returns unoccupied neighbor cells in the map for a given node\"\"\"\n",
    "        x = n.get_x()\n",
    "        y = n.get_y()\n",
    "        possible_neighbors = [\n",
    "            Node(x, y - 1),\n",
    "            Node(x, y + 1),\n",
    "            Node(x - 1, y),\n",
    "            Node(x + 1, y),\n",
    "            Node(x - 1, y - 1),\n",
    "            Node(x - 1, y + 1),\n",
    "            Node(x + 1, y - 1),\n",
    "            Node(x + 1, y + 1),\n",
    "        ]\n",
    "        valid_neighbors = [node for node in possible_neighbors if node.get_x() >= 0 and node.get_x() < self.map.shape[1]\n",
    "                              and node.get_y() >= 0 and node.get_y() < self.map.shape[0]\n",
    "                              and self.map[node.get_y(), node.get_x()] == 0\n",
    "                          ]\n",
    "        return valid_neighbors\n",
    "    \n",
    "    def get_unvisited_neighbors(self, n):\n",
    "        x = n.get_x()\n",
    "        y = n.get_y()\n",
    "        possible_neighbors = [\n",
    "            Node(x, y - 1),\n",
    "            Node(x, y + 1),\n",
    "            Node(x - 1, y),\n",
    "            Node(x + 1, y),\n",
    "            Node(x - 1, y - 1),\n",
    "            Node(x - 1, y + 1),\n",
    "            Node(x + 1, y - 1),\n",
    "            Node(x + 1, y + 1),\n",
    "        ]\n",
    "        valid_neighbors = [node for node in possible_neighbors if node.get_x() >= 0 and node.get_x() < self.map.shape[1]\n",
    "                              and node.get_y() >= 0 and node.get_y() < self.map.shape[0]\n",
    "                              and self.map[node.get_y(), node.get_x()] == 0\n",
    "                          ]\n",
    "        return [ne for ne in valid_neighbors if ne not in self.visited]"
   ]
  },
  {
   "cell_type": "code",
   "execution_count": 13,
   "metadata": {},
   "outputs": [],
   "source": [
    "def h(n, g):\n",
    "    \"\"\"\n",
    "    n and g are tuple of (row, col) coordinates in world map grid\n",
    "    returns euclidean distance in meters between two coordinates in map grid\n",
    "    \"\"\"\n",
    "    y1 = n.get_y()\n",
    "    x1 = n.get_x()\n",
    "    \n",
    "    y2 = g.get_y()\n",
    "    x2 = g.get_x()\n",
    "    \n",
    "    d = np.sqrt((y2 - y1)**2 + (x2 - x1)**2)\n",
    "    return d"
   ]
  },
  {
   "cell_type": "code",
   "execution_count": 96,
   "metadata": {},
   "outputs": [],
   "source": [
    "def bfs_coverage(start, mapp):\n",
    "    \n",
    "    frontier = [start]\n",
    "    cur = start\n",
    "    mapp.visit([cur])\n",
    "\n",
    "    path = [cur]\n",
    "    while True:\n",
    "        S = [] # next level to explore\n",
    "        for i in range(len(frontier)):\n",
    "            node_un = mapp.get_unvisited_neighbors(frontier[i])\n",
    "            S += [n for n in node_un if n not in S]\n",
    "        \n",
    "        if len(S) == 0:\n",
    "            return path\n",
    "        \n",
    "        sub_path = plan_path(cur, deepcopy(S))\n",
    "        path += sub_path\n",
    "        mapp.visit(S)\n",
    "        cur = sub_path[-1]\n",
    "        frontier = S\n",
    "    return path"
   ]
  },
  {
   "cell_type": "code",
   "execution_count": 97,
   "metadata": {},
   "outputs": [],
   "source": [
    "def plan_path(node, remaining_nodes):\n",
    "    if len(remaining_nodes) == 0:\n",
    "        return []\n",
    "    else:\n",
    "        d_opt = np.inf\n",
    "        argmin = 0\n",
    "        for i in range(len(remaining_nodes)):\n",
    "            d = h(node, remaining_nodes[i]) \n",
    "            if d < d_opt:\n",
    "                d_opt = d\n",
    "                argmin = i\n",
    "        \n",
    "        closest = remaining_nodes.pop(argmin)\n",
    "        return [closest] + plan_path(closest, remaining_nodes)"
   ]
  },
  {
   "cell_type": "code",
   "execution_count": 139,
   "metadata": {},
   "outputs": [],
   "source": [
    "s_n = Node(5, 5)\n",
    "mapp = Map(world)\n",
    "\n",
    "path = bfs_coverage(s_n, mapp)"
   ]
  },
  {
   "cell_type": "code",
   "execution_count": 140,
   "metadata": {},
   "outputs": [
    {
     "name": "stdout",
     "output_type": "stream",
     "text": [
      "x: 5 y: 5\n",
      "x: 5 y: 4\n",
      "x: 4 y: 4\n",
      "x: 4 y: 5\n",
      "x: 4 y: 6\n",
      "x: 5 y: 6\n",
      "x: 6 y: 6\n",
      "x: 6 y: 5\n",
      "x: 6 y: 4\n",
      "x: 6 y: 3\n",
      "x: 5 y: 3\n",
      "x: 4 y: 3\n",
      "x: 3 y: 3\n",
      "x: 3 y: 4\n",
      "x: 3 y: 5\n",
      "x: 3 y: 6\n",
      "x: 3 y: 7\n",
      "x: 4 y: 7\n",
      "x: 5 y: 7\n",
      "x: 6 y: 7\n",
      "x: 7 y: 7\n",
      "x: 7 y: 6\n",
      "x: 7 y: 5\n",
      "x: 7 y: 4\n",
      "x: 7 y: 3\n",
      "x: 7 y: 2\n",
      "x: 6 y: 2\n",
      "x: 5 y: 2\n",
      "x: 4 y: 2\n",
      "x: 3 y: 2\n",
      "x: 2 y: 2\n",
      "x: 2 y: 3\n",
      "x: 2 y: 4\n",
      "x: 2 y: 5\n",
      "x: 2 y: 6\n",
      "x: 2 y: 7\n",
      "x: 2 y: 8\n",
      "x: 3 y: 8\n",
      "x: 4 y: 8\n",
      "x: 5 y: 8\n",
      "x: 6 y: 8\n",
      "x: 7 y: 8\n",
      "x: 8 y: 8\n",
      "x: 8 y: 7\n",
      "x: 8 y: 6\n",
      "x: 8 y: 5\n",
      "x: 8 y: 4\n",
      "x: 8 y: 3\n",
      "x: 8 y: 2\n",
      "x: 8 y: 1\n",
      "x: 7 y: 1\n",
      "x: 6 y: 1\n",
      "x: 5 y: 1\n",
      "x: 4 y: 1\n",
      "x: 3 y: 1\n",
      "x: 2 y: 1\n",
      "x: 1 y: 1\n",
      "x: 1 y: 2\n",
      "x: 1 y: 3\n",
      "x: 1 y: 4\n",
      "x: 1 y: 5\n",
      "x: 1 y: 6\n",
      "x: 1 y: 7\n",
      "x: 1 y: 8\n",
      "x: 1 y: 9\n",
      "x: 2 y: 9\n",
      "x: 3 y: 9\n",
      "x: 4 y: 9\n",
      "x: 5 y: 9\n",
      "x: 6 y: 9\n",
      "x: 7 y: 9\n",
      "x: 8 y: 9\n",
      "x: 9 y: 9\n",
      "x: 9 y: 8\n",
      "x: 9 y: 7\n",
      "x: 9 y: 6\n",
      "x: 9 y: 5\n",
      "x: 9 y: 4\n",
      "x: 9 y: 3\n",
      "x: 9 y: 2\n",
      "x: 9 y: 1\n",
      "x: 9 y: 0\n",
      "x: 8 y: 0\n",
      "x: 7 y: 0\n",
      "x: 6 y: 0\n",
      "x: 5 y: 0\n",
      "x: 4 y: 0\n",
      "x: 3 y: 0\n",
      "x: 2 y: 0\n",
      "x: 1 y: 0\n",
      "x: 0 y: 0\n",
      "x: 0 y: 1\n",
      "x: 0 y: 2\n",
      "x: 0 y: 3\n",
      "x: 0 y: 4\n",
      "x: 0 y: 5\n",
      "x: 0 y: 6\n",
      "x: 0 y: 7\n",
      "x: 0 y: 8\n",
      "x: 0 y: 9\n",
      "x: 0 y: 10\n",
      "x: 1 y: 10\n",
      "x: 2 y: 10\n",
      "x: 3 y: 10\n",
      "x: 4 y: 10\n",
      "x: 5 y: 10\n",
      "x: 6 y: 10\n",
      "x: 7 y: 10\n",
      "x: 8 y: 10\n",
      "x: 9 y: 10\n",
      "x: 10 y: 10\n",
      "x: 10 y: 9\n",
      "x: 10 y: 8\n",
      "x: 10 y: 7\n",
      "x: 10 y: 6\n",
      "x: 10 y: 5\n",
      "x: 10 y: 4\n",
      "x: 10 y: 3\n",
      "x: 10 y: 2\n",
      "x: 10 y: 1\n",
      "x: 10 y: 0\n",
      "x: 11 y: 0\n",
      "x: 11 y: 1\n",
      "x: 11 y: 2\n",
      "x: 11 y: 3\n",
      "x: 11 y: 4\n",
      "x: 11 y: 5\n",
      "x: 11 y: 6\n",
      "x: 11 y: 7\n",
      "x: 11 y: 8\n",
      "x: 11 y: 9\n",
      "x: 11 y: 10\n",
      "x: 11 y: 11\n",
      "x: 10 y: 11\n",
      "x: 9 y: 11\n",
      "x: 8 y: 11\n",
      "x: 7 y: 11\n",
      "x: 6 y: 11\n",
      "x: 5 y: 11\n",
      "x: 4 y: 11\n",
      "x: 3 y: 11\n",
      "x: 2 y: 11\n",
      "x: 1 y: 11\n",
      "x: 0 y: 11\n"
     ]
    }
   ],
   "source": [
    "for elem in path:\n",
    "    print(elem)"
   ]
  },
  {
   "cell_type": "code",
   "execution_count": 123,
   "metadata": {},
   "outputs": [],
   "source": [
    "xs = [elem.get_x() for elem in path]\n",
    "ys = [elem.get_y() for elem in path]"
   ]
  },
  {
   "cell_type": "code",
   "execution_count": 126,
   "metadata": {},
   "outputs": [
    {
     "data": {
      "text/plain": [
       "<matplotlib.legend.Legend at 0x7fc7a2cae450>"
      ]
     },
     "execution_count": 126,
     "metadata": {},
     "output_type": "execute_result"
    },
    {
     "data": {
      "image/png": "[encoded data removed]",
      "text/plain": [
       "<Figure size 432x288 with 1 Axes>"
      ]
     },
     "metadata": {
      "needs_background": "light"
     },
     "output_type": "display_data"
    }
   ],
   "source": [
    "plt.imshow(world, cmap='gray')\n",
    "plt.scatter(xs[0], ys[0], label='start')\n",
    "plt.scatter(xs[-1], ys[-1], label='end')\n",
    "plt.plot(xs, ys)\n",
    "plt.title(\"Frontier Search\")\n",
    "plt.legend()"
   ]
  },
  {
   "cell_type": "code",
   "execution_count": 127,
   "metadata": {},
   "outputs": [],
   "source": [
    "def coordinate_to_waypoints(coords):\n",
    "    \"\"\"\n",
    "    turns matrix i=y, j=x values into robot waypoints\n",
    "    \"\"\"\n",
    "    # world is 12 x 12\n",
    "    waypoints = []\n",
    "    for elem in coords:\n",
    "        # x is correct, but y is positive in opposite direction\n",
    "        w_x, w_y = elem\n",
    "        w_y = world.shape[0] - 1 - w_y\n",
    "        waypoint_x = w_x*(ROBOT_WIDTH) + (ROBOT_WIDTH/2)\n",
    "        waypoint_y = w_y *(ROBOT_HEIGHT) + (ROBOT_HEIGHT/2)\n",
    "        waypoints.append([waypoint_x, waypoint_y])\n",
    "    return waypoints"
   ]
  },
  {
   "cell_type": "code",
   "execution_count": 141,
   "metadata": {},
   "outputs": [],
   "source": [
    "coordinates = np.array(list(zip(xs, ys)))"
   ]
  },
  {
   "cell_type": "code",
   "execution_count": 142,
   "metadata": {},
   "outputs": [
    {
     "data": {
      "text/plain": [
       "<matplotlib.collections.PathCollection at 0x7fc7a388a610>"
      ]
     },
     "execution_count": 142,
     "metadata": {},
     "output_type": "execute_result"
    },
    {
     "data": {
      "image/png": "[encoded data removed]",
      "text/plain": [
       "<Figure size 216x216 with 1 Axes>"
      ]
     },
     "metadata": {
      "needs_background": "light"
     },
     "output_type": "display_data"
    }
   ],
   "source": [
    "waypoints = np.array(coordinate_to_waypoints(coordinates))\n",
    "obstacle_waypoints = coordinate_to_waypoints([[5, 5], [5, 6], [6, 5], [6, 6]])\n",
    "\n",
    "plt.figure(figsize=(3, 3))\n",
    "plt.plot(waypoints[:, 0], waypoints[:, 1])\n",
    "plt.scatter(waypoints[:, 0], waypoints[:, 1])"
   ]
  },
  {
   "cell_type": "code",
   "execution_count": 143,
   "metadata": {},
   "outputs": [],
   "source": [
    "def compress_waypoints(wayps):\n",
    "    \"\"\"\n",
    "    turns sequence of waypoints into smaller list\n",
    "    by considering continuity in slope\n",
    "    \"\"\"\n",
    "    denom = (wayps[1][0] - wayps[0][0])\n",
    "    if denom == 0:\n",
    "        prev_slope = np.inf\n",
    "    else:\n",
    "        prev_slope = (wayps[1][1] - wayps[0][1]) / denom\n",
    "    condensed = [wayps[0]]\n",
    "    \n",
    "    for k in range(1, len(wayps)-1):\n",
    "        wp = wayps[k]\n",
    "        denom = (wayps[k+1][0] - wp[0])\n",
    "        if denom == 0:\n",
    "            slope_with_next = np.inf\n",
    "        else:\n",
    "            slope_with_next = (wayps[k+1][1] - wp[1]) / denom\n",
    "        \n",
    "        if slope_with_next != prev_slope:\n",
    "            condensed.append(wp)\n",
    "        prev_slope = slope_with_next\n",
    "    condensed.append(wayps[-1])\n",
    "    return np.array(condensed)"
   ]
  },
  {
   "cell_type": "code",
   "execution_count": 144,
   "metadata": {},
   "outputs": [
    {
     "data": {
      "text/plain": [
       "<matplotlib.collections.PathCollection at 0x7fc7a3efefd0>"
      ]
     },
     "execution_count": 144,
     "metadata": {},
     "output_type": "execute_result"
    },
    {
     "data": {
      "image/png": "[encoded data removed]",
      "text/plain": [
       "<Figure size 216x216 with 1 Axes>"
      ]
     },
     "metadata": {
      "needs_background": "light"
     },
     "output_type": "display_data"
    }
   ],
   "source": [
    "condensed_wps = compress_waypoints(waypoints)\n",
    "\n",
    "plt.figure(figsize=(3,3))\n",
    "plt.plot(condensed_wps[:, 0], condensed_wps[:, 1])\n",
    "plt.scatter(condensed_wps[:, 0], condensed_wps[:, 1])"
   ]
  },
  {
   "cell_type": "code",
   "execution_count": 145,
   "metadata": {},
   "outputs": [
    {
     "data": {
      "text/plain": [
       "array([[1.375, 1.625, 0.   ],\n",
       "       [1.375, 1.875, 0.   ],\n",
       "       [1.125, 1.875, 0.   ],\n",
       "       [1.125, 1.375, 0.   ],\n",
       "       [1.625, 1.375, 0.   ],\n",
       "       [1.625, 2.125, 0.   ],\n",
       "       [0.875, 2.125, 0.   ],\n",
       "       [0.875, 1.125, 0.   ],\n",
       "       [1.875, 1.125, 0.   ],\n",
       "       [1.875, 2.375, 0.   ],\n",
       "       [0.625, 2.375, 0.   ],\n",
       "       [0.625, 0.875, 0.   ],\n",
       "       [2.125, 0.875, 0.   ],\n",
       "       [2.125, 2.625, 0.   ],\n",
       "       [0.375, 2.625, 0.   ],\n",
       "       [0.375, 0.625, 0.   ],\n",
       "       [2.375, 0.625, 0.   ],\n",
       "       [2.375, 2.875, 0.   ],\n",
       "       [0.125, 2.875, 0.   ],\n",
       "       [0.125, 0.375, 0.   ],\n",
       "       [2.625, 0.375, 0.   ],\n",
       "       [2.625, 2.875, 0.   ],\n",
       "       [2.875, 2.875, 0.   ],\n",
       "       [2.875, 0.125, 0.   ],\n",
       "       [0.125, 0.125, 0.   ]])"
      ]
     },
     "execution_count": 145,
     "metadata": {},
     "output_type": "execute_result"
    }
   ],
   "source": [
    "# add theta dimension to waypoints\n",
    "condensed_wps = np.hstack([condensed_wps, np.zeros((condensed_wps.shape[0], 1))])\n",
    "condensed_wps"
   ]
  },
  {
   "cell_type": "code",
   "execution_count": 146,
   "metadata": {},
   "outputs": [],
   "source": [
    "def theta_to_next(wps):\n",
    "    \"\"\"\n",
    "    returns theta for each waypoint which will point to\n",
    "    the next waypoint\n",
    "    \"\"\"\n",
    "    thetas = []\n",
    "    for k in range(len(wps)-1):\n",
    "        dy = wps[k+1][1] - wps[k][1]\n",
    "        dx = wps[k+1][0] - wps[k][0]\n",
    "        theta = math.atan2(dy, dx)\n",
    "        thetas.append(theta)\n",
    "    return np.array(thetas)"
   ]
  },
  {
   "cell_type": "code",
   "execution_count": 147,
   "metadata": {},
   "outputs": [],
   "source": [
    "# modify theta dimensions for smoother motion \n",
    "final_wps = condensed_wps.copy()\n",
    "final_wps[:-1, 2] = theta_to_next(final_wps[:])"
   ]
  },
  {
   "cell_type": "code",
   "execution_count": 148,
   "metadata": {},
   "outputs": [
    {
     "data": {
      "text/plain": [
       "array([[ 1.375     ,  1.625     ,  1.57079633],\n",
       "       [ 1.375     ,  1.875     ,  3.14159265],\n",
       "       [ 1.125     ,  1.875     , -1.57079633],\n",
       "       [ 1.125     ,  1.375     ,  0.        ],\n",
       "       [ 1.625     ,  1.375     ,  1.57079633],\n",
       "       [ 1.625     ,  2.125     ,  3.14159265],\n",
       "       [ 0.875     ,  2.125     , -1.57079633],\n",
       "       [ 0.875     ,  1.125     ,  0.        ],\n",
       "       [ 1.875     ,  1.125     ,  1.57079633],\n",
       "       [ 1.875     ,  2.375     ,  3.14159265],\n",
       "       [ 0.625     ,  2.375     , -1.57079633],\n",
       "       [ 0.625     ,  0.875     ,  0.        ],\n",
       "       [ 2.125     ,  0.875     ,  1.57079633],\n",
       "       [ 2.125     ,  2.625     ,  3.14159265],\n",
       "       [ 0.375     ,  2.625     , -1.57079633],\n",
       "       [ 0.375     ,  0.625     ,  0.        ],\n",
       "       [ 2.375     ,  0.625     ,  1.57079633],\n",
       "       [ 2.375     ,  2.875     ,  3.14159265],\n",
       "       [ 0.125     ,  2.875     , -1.57079633],\n",
       "       [ 0.125     ,  0.375     ,  0.        ],\n",
       "       [ 2.625     ,  0.375     ,  1.57079633],\n",
       "       [ 2.625     ,  2.875     ,  0.        ],\n",
       "       [ 2.875     ,  2.875     , -1.57079633],\n",
       "       [ 2.875     ,  0.125     ,  3.14159265],\n",
       "       [ 0.125     ,  0.125     ,  0.        ]])"
      ]
     },
     "execution_count": 148,
     "metadata": {},
     "output_type": "execute_result"
    }
   ],
   "source": [
    "final_wps"
   ]
  },
  {
   "cell_type": "code",
   "execution_count": 149,
   "metadata": {},
   "outputs": [],
   "source": [
    " # no change in theta for last waypoint necessary\n",
    "final_wps[-1, 2] = final_wps[-2, 2]"
   ]
  },
  {
   "cell_type": "code",
   "execution_count": 150,
   "metadata": {},
   "outputs": [
    {
     "data": {
      "text/plain": [
       "array([[ 1.375     ,  1.625     ,  1.57079633],\n",
       "       [ 1.375     ,  1.875     ,  3.14159265],\n",
       "       [ 1.125     ,  1.875     , -1.57079633],\n",
       "       [ 1.125     ,  1.375     ,  0.        ],\n",
       "       [ 1.625     ,  1.375     ,  1.57079633],\n",
       "       [ 1.625     ,  2.125     ,  3.14159265],\n",
       "       [ 0.875     ,  2.125     , -1.57079633],\n",
       "       [ 0.875     ,  1.125     ,  0.        ],\n",
       "       [ 1.875     ,  1.125     ,  1.57079633],\n",
       "       [ 1.875     ,  2.375     ,  3.14159265],\n",
       "       [ 0.625     ,  2.375     , -1.57079633],\n",
       "       [ 0.625     ,  0.875     ,  0.        ],\n",
       "       [ 2.125     ,  0.875     ,  1.57079633],\n",
       "       [ 2.125     ,  2.625     ,  3.14159265],\n",
       "       [ 0.375     ,  2.625     , -1.57079633],\n",
       "       [ 0.375     ,  0.625     ,  0.        ],\n",
       "       [ 2.375     ,  0.625     ,  1.57079633],\n",
       "       [ 2.375     ,  2.875     ,  3.14159265],\n",
       "       [ 0.125     ,  2.875     , -1.57079633],\n",
       "       [ 0.125     ,  0.375     ,  0.        ],\n",
       "       [ 2.625     ,  0.375     ,  1.57079633],\n",
       "       [ 2.625     ,  2.875     ,  0.        ],\n",
       "       [ 2.875     ,  2.875     , -1.57079633],\n",
       "       [ 2.875     ,  0.125     ,  3.14159265],\n",
       "       [ 0.125     ,  0.125     ,  3.14159265]])"
      ]
     },
     "execution_count": 150,
     "metadata": {},
     "output_type": "execute_result"
    }
   ],
   "source": [
    "final_wps"
   ]
  },
  {
   "cell_type": "code",
   "execution_count": 151,
   "metadata": {},
   "outputs": [
    {
     "data": {
      "image/png": "[encoded data removed]",
      "text/plain": [
       "<Figure size 216x216 with 1 Axes>"
      ]
     },
     "metadata": {
      "needs_background": "light"
     },
     "output_type": "display_data"
    }
   ],
   "source": [
    "plt.figure(figsize=(3, 3))\n",
    "axes = plt.axes()\n",
    "plt.plot(final_wps[:, 0], final_wps[:, 1])\n",
    "plt.scatter(final_wps[:, 0], final_wps[:, 1])\n",
    "for k in range(len(final_wps)):\n",
    "#     if k == 0:\n",
    "    x, y, theta = final_wps[k]\n",
    "    theta = (theta + 2*np.pi) % (2*np.pi)\n",
    "    y_x = np.tan(theta)\n",
    "    if theta == np.pi/2:\n",
    "        d_x = 0.0001\n",
    "        d_y = 0.1\n",
    "    elif theta == 3*np.pi/2:\n",
    "        d_x = 0.0001\n",
    "        d_y = -0.1\n",
    "    elif theta == np.pi:\n",
    "        d_x = -0.1\n",
    "        d_y = 0.0001\n",
    "    elif theta == 2*np.pi:\n",
    "        d_x = 0.1\n",
    "        d_y = 0.0001\n",
    "    elif theta < np.pi/2:\n",
    "        d_x = 0.1 # q1\n",
    "        d_y = y_x * d_x\n",
    "    elif theta > np.pi/2 and theta < np.pi:\n",
    "        # q2\n",
    "        d_x = -0.1\n",
    "        d_y = y_x * d_x\n",
    "    elif theta > np.pi and theta < 3*np.pi/2:\n",
    "        d_x = -0.1 # q3\n",
    "        d_y = y_x * d_x\n",
    "    else:\n",
    "        d_x = 0.1\n",
    "        d_y = y_x * d_x\n",
    "\n",
    "    plt.arrow(x, y, d_x, d_y, head_width=0.1, head_length = 0.1)\n"
   ]
  },
  {
   "cell_type": "code",
   "execution_count": null,
   "metadata": {},
   "outputs": [],
   "source": []
  }
 ],
 "metadata": {
  "kernelspec": {
   "display_name": "base",
   "language": "python",
   "name": "base"
  },
  "language_info": {
   "codemirror_mode": {
    "name": "ipython",
    "version": 3
   },
   "file_extension": ".py",
   "mimetype": "text/x-python",
   "name": "python",
   "nbconvert_exporter": "python",
   "pygments_lexer": "ipython3",
   "version": "3.7.10"
  }
 },
 "nbformat": 4,
 "nbformat_minor": 4
}
