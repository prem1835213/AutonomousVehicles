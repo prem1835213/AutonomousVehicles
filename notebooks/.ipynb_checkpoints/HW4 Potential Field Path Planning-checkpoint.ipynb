{
 "cells": [
  {
   "cell_type": "code",
   "execution_count": null,
   "metadata": {},
   "outputs": [],
   "source": [
    "import numpy as np\n",
    "import math\n",
    "from matplotlib import pyplot as plt\n",
    "import cv2"
   ]
  },
  {
   "cell_type": "code",
   "execution_count": null,
   "metadata": {},
   "outputs": [],
   "source": [
    "world = np.zeros((12,12))\n",
    "\n",
    "world"
   ]
  },
  {
   "cell_type": "code",
   "execution_count": null,
   "metadata": {},
   "outputs": [],
   "source": [
    "# constants\n",
    "GOAL_GAIN = 5.5\n",
    "OBSTACLE_GAIN = 1000\n",
    "OBSTACLE_INFLUENCE = 5 # 5 cells of influence\n",
    "OBSTACLE_LOCATION = [5.5, 5.5] \n",
    "# obstacle will occupy (5,5) (5,6), (6,5) (6,6)\n",
    "\n",
    "# each square in gris is 0.25m x 0.25m\n",
    "# grid side length is 3m\n",
    "CELL_WIDTH = 0.25 \n",
    "CELL_HEIGHT = 0.25"
   ]
  },
  {
   "cell_type": "code",
   "execution_count": null,
   "metadata": {},
   "outputs": [],
   "source": [
    "def compute_distance(cell1, cell2):\n",
    "    i1, j1 = cell1\n",
    "    i2, j2 = cell2\n",
    "    return np.sqrt((j2 - j1)**2 + (i2-i1)**2)"
   ]
  },
  {
   "cell_type": "code",
   "execution_count": null,
   "metadata": {},
   "outputs": [],
   "source": [
    "# compute attractive potential for each matrix cell\n",
    "\n",
    "# assume goal is at i,j = (0, 0)\n",
    "U_att = np.zeros(world.shape)\n",
    "for i in range(world.shape[0]):\n",
    "    for j in range(world.shape[1]):\n",
    "        rho = compute_distance([0, 0], [i, j])\n",
    "        U_att[i][j] = 0.5 * GOAL_GAIN * (rho**2)"
   ]
  },
  {
   "cell_type": "code",
   "execution_count": null,
   "metadata": {},
   "outputs": [],
   "source": [
    "# compute repulsive force -- circular repulsive not working\n",
    "\n",
    "U_rep = np.zeros(world.shape)\n",
    "for i in range(world.shape[0]):\n",
    "    for j in range(world.shape[1]):\n",
    "        d = compute_distance(OBSTACLE_LOCATION, [i, j])\n",
    "        \n",
    "        if d <= OBSTACLE_INFLUENCE:\n",
    "            U_rep[i][j] = 0.5 * OBSTACLE_GAIN + (1/d - 1/OBSTACLE_INFLUENCE)\n",
    "        else:\n",
    "            U_rep[i][j] = 0"
   ]
  },
  {
   "cell_type": "code",
   "execution_count": null,
   "metadata": {},
   "outputs": [],
   "source": [
    "U = U_att + U_rep\n",
    "\n",
    "plt.imshow(U)"
   ]
  },
  {
   "cell_type": "code",
   "execution_count": null,
   "metadata": {},
   "outputs": [],
   "source": [
    "def get_neighbors(cell, mapp):\n",
    "    i, j = cell\n",
    "    potential_neighbors = [\n",
    "        [i+1, j+1],\n",
    "        [i-1, j-1],\n",
    "        [i+1, j-1],\n",
    "        [i-1, j+1],\n",
    "        [i-1, j],\n",
    "        [i+1, j],\n",
    "        [i, j-1],\n",
    "        [i, j+1]\n",
    "    ]\n",
    "    valids = []\n",
    "    for ne in potential_neighbors:\n",
    "        if ne[0] >= 0 and ne[0] < mapp.shape[0] and ne[1] >= 0 and ne[1] < mapp.shape[1]:\n",
    "            valids.append(ne)\n",
    "    return valids"
   ]
  },
  {
   "cell_type": "code",
   "execution_count": null,
   "metadata": {},
   "outputs": [],
   "source": [
    "def gradient_descent(start, goal, field):\n",
    "    cur = start\n",
    "    stuck = False\n",
    "    path = [start]\n",
    "    count = 0\n",
    "    mod_field = field.copy()\n",
    "    while not stuck and cur != goal:\n",
    "        print(cur)\n",
    "        nes = get_neighbors(cur, mod_field)\n",
    "        if len(nes) == 0:\n",
    "            print(\"No neighbors\")\n",
    "            return path\n",
    "        if len(nes) == 1:\n",
    "            ne = nes[0]\n",
    "            if mod_field[ne[0]][ne[1]] < mod_field[cur[0]][cur[1]]:\n",
    "                cur = ne\n",
    "                path.append(cur)\n",
    "            else:\n",
    "                stuck = True\n",
    "                print(\"Local minima\")\n",
    "        else:\n",
    "            ne = nes[0]\n",
    "            best_grad = mod_field[ne[0]][ne[1]] - mod_field[cur[0]][cur[1]]\n",
    "            best_ne = ne\n",
    "            for i in range(1, len(nes)):\n",
    "                ne = nes[i]\n",
    "                grad = mod_field[ne[0]][ne[1]] - mod_field[cur[0]][cur[1]]\n",
    "                if grad < best_grad:\n",
    "                    best_grad = grad\n",
    "                    best_ne = ne\n",
    "            if best_grad >= 0:\n",
    "                stuck = True\n",
    "                print(\"Local minima\")\n",
    "            else:\n",
    "                cur = best_ne\n",
    "                path.append(cur)\n",
    "        if stuck and count == 0:\n",
    "            stuck = False\n",
    "            count += 1\n",
    "            mod_field[cur[0]][cur[1]] += 200\n",
    "            print(\"adding noise\")\n",
    "        else:\n",
    "            count = 0\n",
    "    return path, stuck"
   ]
  },
  {
   "cell_type": "code",
   "execution_count": null,
   "metadata": {
    "scrolled": true
   },
   "outputs": [],
   "source": [
    "path, stuck = gradient_descent([11, 11], [0, 0], U)\n",
    "if stuck:\n",
    "    print(\"Could not find path\")\n",
    "else:\n",
    "    path = np.array(path)"
   ]
  },
  {
   "cell_type": "code",
   "execution_count": null,
   "metadata": {},
   "outputs": [],
   "source": [
    "path"
   ]
  },
  {
   "cell_type": "code",
   "execution_count": null,
   "metadata": {},
   "outputs": [],
   "source": [
    "plt.imshow(U)\n",
    "plt.scatter([11], [11], label='start')\n",
    "plt.scatter([0], [0], label='goal')\n",
    "# plot matrix i,j j=x i=y\n",
    "plt.plot(path[:, 1], path[:, 0], 'r', label='path')\n",
    "plt.title(\"Path Planning using Potential Fields\")\n",
    "plt.legend()"
   ]
  },
  {
   "cell_type": "code",
   "execution_count": null,
   "metadata": {},
   "outputs": [],
   "source": [
    "# convert matrix i,j to x,y\n",
    "coordinates = np.hstack([path[:, 1].reshape(-1, 1), path[:, 0].reshape(-1, 1)])"
   ]
  },
  {
   "cell_type": "code",
   "execution_count": null,
   "metadata": {},
   "outputs": [],
   "source": [
    "ROBOT_WIDTH = 0.25\n",
    "ROBOT_HEIGHT = 0.25\n",
    "def coordinate_to_waypoints(coords):\n",
    "    \"\"\"\n",
    "    turns matrix i=y, j=x values into robot waypoints\n",
    "    \"\"\"\n",
    "    # world is 12 x 12\n",
    "    waypoints = []\n",
    "    for elem in coords:\n",
    "        # x is correct, but y is positive in opposite direction\n",
    "        w_x, w_y = elem\n",
    "        w_y = world.shape[0] - 1 - w_y\n",
    "        waypoint_x = w_x*(ROBOT_WIDTH) + (ROBOT_WIDTH/2)\n",
    "        waypoint_y = w_y *(ROBOT_HEIGHT) + (ROBOT_HEIGHT/2)\n",
    "        waypoints.append([waypoint_x, waypoint_y])\n",
    "    return waypoints"
   ]
  },
  {
   "cell_type": "code",
   "execution_count": null,
   "metadata": {},
   "outputs": [],
   "source": [
    "waypoints = np.array(coordinate_to_waypoints(coordinates))"
   ]
  },
  {
   "cell_type": "code",
   "execution_count": null,
   "metadata": {},
   "outputs": [],
   "source": [
    "plt.figure(figsize=(3, 3))\n",
    "plt.plot(waypoints[:, 0], waypoints[:, 1])\n",
    "plt.scatter(waypoints[:, 0], waypoints[:, 1])"
   ]
  },
  {
   "cell_type": "code",
   "execution_count": null,
   "metadata": {},
   "outputs": [],
   "source": [
    "def compress_waypoints(wayps):\n",
    "    \"\"\"\n",
    "    turns sequence of waypoints into smaller list\n",
    "    by considering continuity in slope\n",
    "    \"\"\"\n",
    "    denom = (wayps[1][0] - wayps[0][0])\n",
    "    if denom == 0:\n",
    "        prev_slope = np.inf\n",
    "    else:\n",
    "        prev_slope = (wayps[1][1] - wayps[0][1]) / denom\n",
    "    condensed = [wayps[0]]\n",
    "    \n",
    "    for k in range(1, len(wayps)-1):\n",
    "        wp = wayps[k]\n",
    "        denom = (wayps[k+1][0] - wp[0])\n",
    "        if denom == 0:\n",
    "            slope_with_next = np.inf\n",
    "        else:\n",
    "            slope_with_next = (wayps[k+1][1] - wp[1]) / denom\n",
    "        \n",
    "        if slope_with_next != prev_slope:\n",
    "            condensed.append(wp)\n",
    "        prev_slope = slope_with_next\n",
    "    condensed.append(wayps[-1])\n",
    "    return np.array(condensed)"
   ]
  },
  {
   "cell_type": "code",
   "execution_count": null,
   "metadata": {},
   "outputs": [],
   "source": [
    "condensed_wps = compress_waypoints(waypoints)\n",
    "\n",
    "plt.figure(figsize=(3,3))\n",
    "plt.plot(condensed_wps[:, 0], condensed_wps[:, 1])\n",
    "plt.scatter(condensed_wps[:, 0], condensed_wps[:, 1])"
   ]
  },
  {
   "cell_type": "code",
   "execution_count": null,
   "metadata": {},
   "outputs": [],
   "source": [
    "# add theta dimension to waypoints\n",
    "condensed_wps = np.hstack([condensed_wps, np.zeros((condensed_wps.shape[0], 1))])\n",
    "condensed_wps"
   ]
  },
  {
   "cell_type": "code",
   "execution_count": null,
   "metadata": {},
   "outputs": [],
   "source": [
    "def theta_to_next(wps):\n",
    "    \"\"\"\n",
    "    returns theta for each waypoint which will point to\n",
    "    the next waypoint\n",
    "    \"\"\"\n",
    "    thetas = []\n",
    "    for k in range(len(wps)-1):\n",
    "        dy = wps[k+1][1] - wps[k][1]\n",
    "        dx = wps[k+1][0] - wps[k][0]\n",
    "        theta = math.atan2(dy, dx)\n",
    "        thetas.append(theta)\n",
    "    return np.array(thetas)"
   ]
  },
  {
   "cell_type": "code",
   "execution_count": null,
   "metadata": {},
   "outputs": [],
   "source": [
    "# modify theta dimensions for smoother motion \n",
    "final_wps = condensed_wps.copy()\n",
    "final_wps[:-1, 2] = theta_to_next(final_wps[:])"
   ]
  },
  {
   "cell_type": "code",
   "execution_count": null,
   "metadata": {},
   "outputs": [],
   "source": [
    " # no change in theta for last waypoint necessary\n",
    "final_wps[-1, 2] = final_wps[-2, 2]"
   ]
  },
  {
   "cell_type": "code",
   "execution_count": null,
   "metadata": {},
   "outputs": [],
   "source": [
    "final_wps"
   ]
  },
  {
   "cell_type": "code",
   "execution_count": null,
   "metadata": {},
   "outputs": [],
   "source": [
    "plt.figure(figsize=(3, 3))\n",
    "axes = plt.axes()\n",
    "plt.plot(final_wps[:, 0], final_wps[:, 1])\n",
    "plt.scatter(final_wps[:, 0], final_wps[:, 1])\n",
    "for k in range(len(final_wps)):\n",
    "#     if k == 0:\n",
    "    x, y, theta = final_wps[k]\n",
    "    theta = (theta + 2*np.pi) % (2*np.pi)\n",
    "    y_x = np.tan(theta)\n",
    "    if theta == np.pi/2:\n",
    "        d_x = 0.0001\n",
    "        d_y = 0.1\n",
    "    elif theta == 3*np.pi/2:\n",
    "        d_x = 0.0001\n",
    "        d_y = -0.1\n",
    "    elif theta == np.pi:\n",
    "        d_x = -0.1\n",
    "        d_y = 0.0001\n",
    "    elif theta == 2*np.pi:\n",
    "        d_x = 0.1\n",
    "        d_y = 0.0001\n",
    "    elif theta < np.pi/2:\n",
    "        d_x = 0.1 # q1\n",
    "        d_y = y_x * d_x\n",
    "    elif theta > np.pi/2 and theta < np.pi:\n",
    "        # q2\n",
    "        d_x = -0.1\n",
    "        d_y = y_x * d_x\n",
    "    elif theta > np.pi and theta < 3*np.pi/2:\n",
    "        d_x = -0.1 # q3\n",
    "        d_y = y_x * d_x\n",
    "    else:\n",
    "        d_x = 0.1\n",
    "        d_y = y_x * d_x\n",
    "\n",
    "    plt.arrow(x, y, d_x, d_y, head_width=0.1, head_length = 0.1)"
   ]
  },
  {
   "cell_type": "code",
   "execution_count": null,
   "metadata": {},
   "outputs": [],
   "source": []
  },
  {
   "cell_type": "code",
   "execution_count": null,
   "metadata": {},
   "outputs": [],
   "source": []
  }
 ],
 "metadata": {
  "kernelspec": {
   "display_name": "base",
   "language": "python",
   "name": "base"
  },
  "language_info": {
   "codemirror_mode": {
    "name": "ipython",
    "version": 3
   },
   "file_extension": ".py",
   "mimetype": "text/x-python",
   "name": "python",
   "nbconvert_exporter": "python",
   "pygments_lexer": "ipython3",
   "version": "3.7.10"
  }
 },
 "nbformat": 4,
 "nbformat_minor": 4
}
