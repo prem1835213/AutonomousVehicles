{
 "cells": [
  {
   "cell_type": "code",
   "execution_count": 1,
   "metadata": {},
   "outputs": [],
   "source": [
    "import numpy as np\n",
    "import matplotlib.pyplot as plt\n",
    "import math\n",
    "from PIL import Image\n",
    "import cv2\n",
    "\n",
    "from copy import deepcopy\n",
    "\n",
    "# from queue import PriorityQueue"
   ]
  },
  {
   "cell_type": "code",
   "execution_count": 2,
   "metadata": {},
   "outputs": [
    {
     "data": {
      "text/plain": [
       "(12, 12)"
      ]
     },
     "execution_count": 2,
     "metadata": {},
     "output_type": "execute_result"
    }
   ],
   "source": [
    "# CONSTANTS\n",
    "\n",
    "ROBOT_WIDTH = 0.25\n",
    "ROBOT_HEIGHT = 0.25\n",
    "\n",
    "num_cols = math.ceil(3.0 / ROBOT_WIDTH) # field is 3m x 3m\n",
    "num_rows = math.ceil(3.0 / ROBOT_HEIGHT)\n",
    "\n",
    "world = np.zeros((num_rows, num_cols)) # each cell is 0.25m x 0.25m\n",
    "\n",
    "\n",
    "world.shape"
   ]
  },
  {
   "cell_type": "code",
   "execution_count": 3,
   "metadata": {},
   "outputs": [],
   "source": [
    "OBSTACLE_WIDTH = 0.5\n",
    "OBSTACLE_HEIGHT = 0.5"
   ]
  },
  {
   "cell_type": "code",
   "execution_count": 4,
   "metadata": {},
   "outputs": [],
   "source": [
    "# set obstacle in map\n",
    "world[int(world.shape[0] / 2)-1:int(world.shape[0] / 2)+1,int(world.shape[1] / 2)-1:int(world.shape[1] / 2)+1]  = 1"
   ]
  },
  {
   "cell_type": "code",
   "execution_count": 5,
   "metadata": {},
   "outputs": [
    {
     "data": {
      "text/plain": [
       "array([[0., 0., 0., 0., 0., 0., 0., 0., 0., 0., 0., 0.],\n",
       "       [0., 0., 0., 0., 0., 0., 0., 0., 0., 0., 0., 0.],\n",
       "       [0., 0., 0., 0., 0., 0., 0., 0., 0., 0., 0., 0.],\n",
       "       [0., 0., 0., 0., 0., 0., 0., 0., 0., 0., 0., 0.],\n",
       "       [0., 0., 0., 0., 0., 0., 0., 0., 0., 0., 0., 0.],\n",
       "       [0., 0., 0., 0., 0., 1., 1., 0., 0., 0., 0., 0.],\n",
       "       [0., 0., 0., 0., 0., 1., 1., 0., 0., 0., 0., 0.],\n",
       "       [0., 0., 0., 0., 0., 0., 0., 0., 0., 0., 0., 0.],\n",
       "       [0., 0., 0., 0., 0., 0., 0., 0., 0., 0., 0., 0.],\n",
       "       [0., 0., 0., 0., 0., 0., 0., 0., 0., 0., 0., 0.],\n",
       "       [0., 0., 0., 0., 0., 0., 0., 0., 0., 0., 0., 0.],\n",
       "       [0., 0., 0., 0., 0., 0., 0., 0., 0., 0., 0., 0.]])"
      ]
     },
     "execution_count": 5,
     "metadata": {},
     "output_type": "execute_result"
    }
   ],
   "source": [
    "world"
   ]
  },
  {
   "cell_type": "code",
   "execution_count": 6,
   "metadata": {},
   "outputs": [],
   "source": [
    "class PriorityQueue(object):\n",
    "    def __init__(self):\n",
    "        self.queue = []\n",
    " \n",
    "    def __str__(self):\n",
    "        return ' '.join([str(i) for i in self.queue])\n",
    " \n",
    "    # for checking if the queue is empty\n",
    "    def isEmpty(self):\n",
    "        return len(self.queue) == 0\n",
    " \n",
    "    # for inserting an element in the queue\n",
    "    def put(self, data):\n",
    "        self.queue.append(data)\n",
    " \n",
    "    # for popping an element based on Priority\n",
    "    def get(self):\n",
    "        try:\n",
    "            max_val = 0\n",
    "            for i in range(len(self.queue)):\n",
    "                if self.queue[i][0] < self.queue[max_val][0]:\n",
    "                    max_val = i\n",
    "            item = self.queue[max_val]\n",
    "            del self.queue[max_val]\n",
    "            return item\n",
    "        except IndexError:\n",
    "            print()\n",
    "            exit()"
   ]
  },
  {
   "cell_type": "code",
   "execution_count": 7,
   "metadata": {},
   "outputs": [],
   "source": [
    "class Node:\n",
    "    def __init__(self, x, y):\n",
    "        # numpy array is indexed by arr[y, x]\n",
    "        self.x = x\n",
    "        self.y = y\n",
    "        self.parent = None\n",
    "        self.f = 0\n",
    "        self.g = 0\n",
    "    \n",
    "    def __str__(self):\n",
    "        return \"x: {} y: {}\".format(self.x, self.y)\n",
    "    \n",
    "    def set_parent(self, n):\n",
    "        self.parent = n\n",
    "        \n",
    "    def get_parent(self):\n",
    "        return self.parent\n",
    "    \n",
    "    def set_f(self, f):\n",
    "        self.f = f\n",
    "        \n",
    "    def get_f(self):\n",
    "        return self.f\n",
    "        \n",
    "    def set_g(self, g):\n",
    "        self.g = g\n",
    "        \n",
    "    def get_g(self):\n",
    "        return self.g\n",
    "    \n",
    "    def get_x(self):\n",
    "        return self.x\n",
    "    \n",
    "    def get_y(self):\n",
    "        return self.y\n",
    "    \n",
    "    def __eq__(self, n):\n",
    "        return self.x == n.get_x() and self.y == n.get_y()\n",
    "    \n",
    "class Map:\n",
    "    def __init__(self, world_map):\n",
    "        self.map = world_map # 2D numpy boolean array, 1 means occupied\n",
    "        \n",
    "    def get_neighbors(self, n):\n",
    "        \"\"\"Returns unoccupied neighbor cells in the map for a given node\"\"\"\n",
    "        x = n.get_x()\n",
    "        y = n.get_y()\n",
    "        possible_neighbors = [\n",
    "            Node(x, y - 1),\n",
    "            Node(x, y + 1),\n",
    "            Node(x - 1, y),\n",
    "            Node(x + 1, y),\n",
    "            Node(x - 1, y - 1),\n",
    "            Node(x - 1, y + 1),\n",
    "            Node(x + 1, y - 1),\n",
    "            Node(x + 1, y + 1),\n",
    "        ]\n",
    "        valid_neighbors = [node for node in possible_neighbors if node.get_x() >= 0 and node.get_x() < self.map.shape[1]\n",
    "                              and node.get_y() >= 0 and node.get_y() < self.map.shape[0]\n",
    "                              and self.map[node.get_y(), node.get_x()] == 0\n",
    "                          ]\n",
    "        return valid_neighbors"
   ]
  },
  {
   "cell_type": "code",
   "execution_count": 8,
   "metadata": {},
   "outputs": [],
   "source": [
    "def h(n, g):\n",
    "    \"\"\"\n",
    "    n and g are tuple of (row, col) coordinates in world map grid\n",
    "    returns euclidean distance in meters between two coordinates in map grid\n",
    "    \"\"\"\n",
    "    y1 = n.get_y()\n",
    "    x1 = n.get_x()\n",
    "    \n",
    "    y2 = g.get_y()\n",
    "    x2 = g.get_x()\n",
    "    \n",
    "    y1 *= ROBOT_HEIGHT\n",
    "    y2 *= ROBOT_HEIGHT\n",
    "    \n",
    "    x1 *= ROBOT_WIDTH\n",
    "    x2 *= ROBOT_WIDTH\n",
    "    \n",
    "    d = np.sqrt((y2 - y1)**2 + (x2 - x1)**2)\n",
    "    return d\n",
    "\n",
    "def a_star(start, goal, mapp):\n",
    "    \"\"\"start and goal are both of type Node\"\"\"\n",
    "    open_lst = PriorityQueue()\n",
    "    close_lst = []\n",
    "    \n",
    "    open_lst.put((start.f, start))\n",
    "    \n",
    "    while not open_lst.isEmpty():\n",
    "        f_n, n = open_lst.get()\n",
    "        succs = mapp.get_neighbors(n)\n",
    "        for suc in succs:\n",
    "            suc.set_parent(n)\n",
    "            \n",
    "            if suc.x == goal.x and suc.y == goal.y:\n",
    "                # goal is found\n",
    "                return suc\n",
    "            \n",
    "            # compute f of node\n",
    "            suc.set_g(n.get_g() + h(n, suc))\n",
    "            suc.set_f(suc.get_g() + h(suc, goal))\n",
    "            \n",
    "            # check if successor should be skipped\n",
    "            skip = False\n",
    "            all_opens = open_lst.queue\n",
    "            for op in all_opens:\n",
    "                if suc == op[1] and suc.get_f() >= op[0]:\n",
    "                    skip = True\n",
    "                    \n",
    "            for cl in close_lst:\n",
    "                if suc == cl and cl.get_f() < suc.get_f():\n",
    "                    skip = True\n",
    "            \n",
    "            if not skip:\n",
    "                open_lst.put((suc.get_f(), suc))\n",
    "                \n",
    "        close_lst.append(n)\n",
    "    print(\"no path possible\")"
   ]
  },
  {
   "cell_type": "code",
   "execution_count": 9,
   "metadata": {},
   "outputs": [],
   "source": [
    "s_n = Node(11, 11)\n",
    "g_n = Node(0, 0)\n",
    "mapp = Map(world)"
   ]
  },
  {
   "cell_type": "code",
   "execution_count": 10,
   "metadata": {},
   "outputs": [],
   "source": [
    "final = a_star(s_n, g_n, mapp)"
   ]
  },
  {
   "cell_type": "code",
   "execution_count": 11,
   "metadata": {},
   "outputs": [],
   "source": [
    "cur = deepcopy(final)\n",
    "path = []\n",
    "while cur is not None:\n",
    "    path.append(cur)\n",
    "    cur = cur.parent"
   ]
  },
  {
   "cell_type": "code",
   "execution_count": 12,
   "metadata": {},
   "outputs": [
    {
     "name": "stdout",
     "output_type": "stream",
     "text": [
      "x: 0 y: 0\n",
      "x: 1 y: 1\n",
      "x: 2 y: 1\n",
      "x: 3 y: 1\n",
      "x: 4 y: 2\n",
      "x: 5 y: 3\n",
      "x: 6 y: 4\n",
      "x: 7 y: 5\n",
      "x: 7 y: 6\n",
      "x: 7 y: 7\n",
      "x: 8 y: 8\n",
      "x: 9 y: 9\n",
      "x: 10 y: 10\n",
      "x: 11 y: 11\n"
     ]
    }
   ],
   "source": [
    "for elem in path:\n",
    "    print(elem)"
   ]
  },
  {
   "cell_type": "code",
   "execution_count": 13,
   "metadata": {},
   "outputs": [],
   "source": [
    "xs = [elem.get_x() for elem in path]\n",
    "ys = [elem.get_y() for elem in path]"
   ]
  },
  {
   "cell_type": "code",
   "execution_count": 14,
   "metadata": {},
   "outputs": [],
   "source": [
    "world_plot = world.copy()\n",
    "world_plot[-1,-1] = 1\n",
    "world_plot[0, 0] = 1"
   ]
  },
  {
   "cell_type": "code",
   "execution_count": 15,
   "metadata": {},
   "outputs": [
    {
     "data": {
      "text/plain": [
       "<matplotlib.legend.Legend at 0x7ff26d32bdd0>"
      ]
     },
     "execution_count": 15,
     "metadata": {},
     "output_type": "execute_result"
    },
    {
     "data": {
      "image/png": "[encoded data removed]",
      "text/plain": [
       "<Figure size 432x288 with 1 Axes>"
      ]
     },
     "metadata": {
      "needs_background": "light"
     },
     "output_type": "display_data"
    }
   ],
   "source": [
    "plt.imshow(world_plot, cmap='gray')\n",
    "plt.scatter(np.array([11]), np.array([11]), color='r', label='start')\n",
    "plt.scatter(np.array([0]), np.array([0]), color='g', label='goal')\n",
    "plt.gca().add_line(plt.Line2D(xs,ys))\n",
    "plt.title(\"A* Search for Shortest Path, Using a Euclidean Heuristic\")\n",
    "plt.legend()"
   ]
  },
  {
   "cell_type": "code",
   "execution_count": 16,
   "metadata": {},
   "outputs": [],
   "source": [
    "def coordinate_to_waypoints(coords):\n",
    "    \"\"\"\n",
    "    turns matrix i=y, j=x values into robot waypoints\n",
    "    \"\"\"\n",
    "    # world is 12 x 12\n",
    "    waypoints = []\n",
    "    for elem in coords:\n",
    "        # x is correct, but y is positive in opposite direction\n",
    "        w_x, w_y = elem\n",
    "        w_y = world.shape[0] - 1 - w_y\n",
    "        waypoint_x = w_x*(ROBOT_WIDTH) + (ROBOT_WIDTH/2)\n",
    "        waypoint_y = w_y *(ROBOT_HEIGHT) + (ROBOT_HEIGHT/2)\n",
    "        waypoints.append([waypoint_x, waypoint_y])\n",
    "    return waypoints"
   ]
  },
  {
   "cell_type": "code",
   "execution_count": 19,
   "metadata": {},
   "outputs": [],
   "source": [
    "coordinates = np.array(list(zip(xs, ys)))[::-1]"
   ]
  },
  {
   "cell_type": "code",
   "execution_count": 21,
   "metadata": {},
   "outputs": [
    {
     "data": {
      "text/plain": [
       "<matplotlib.collections.PathCollection at 0x7ff26d4b5910>"
      ]
     },
     "execution_count": 21,
     "metadata": {},
     "output_type": "execute_result"
    },
    {
     "data": {
      "image/png": "[encoded data removed]",
      "text/plain": [
       "<Figure size 216x216 with 1 Axes>"
      ]
     },
     "metadata": {
      "needs_background": "light"
     },
     "output_type": "display_data"
    }
   ],
   "source": [
    "waypoints = np.array(coordinate_to_waypoints(coordinates))\n",
    "obstacle_waypoints = coordinate_to_waypoints([[5, 5], [5, 6], [6, 5], [6, 6]])\n",
    "\n",
    "plt.figure(figsize=(3, 3))\n",
    "plt.plot(waypoints[:, 0], waypoints[:, 1])\n",
    "plt.scatter(waypoints[:, 0], waypoints[:, 1])"
   ]
  },
  {
   "cell_type": "code",
   "execution_count": null,
   "metadata": {},
   "outputs": [],
   "source": [
    "def compress_waypoints(wayps):\n",
    "    \"\"\"\n",
    "    turns sequence of waypoints into smaller list\n",
    "    by considering continuity in slope\n",
    "    \"\"\"\n",
    "    denom = (wayps[1][0] - wayps[0][0])\n",
    "    if denom == 0:\n",
    "        prev_slope = np.inf\n",
    "    else:\n",
    "        prev_slope = (wayps[1][1] - wayps[0][1]) / denom\n",
    "    condensed = [wayps[0]]\n",
    "    \n",
    "    for k in range(1, len(wayps)-1):\n",
    "        wp = wayps[k]\n",
    "        denom = (wayps[k+1][0] - wp[0])\n",
    "        if denom == 0:\n",
    "            slope_with_next = np.inf\n",
    "        else:\n",
    "            slope_with_next = (wayps[k+1][1] - wp[1]) / denom\n",
    "        \n",
    "        if slope_with_next != prev_slope:\n",
    "            condensed.append(wp)\n",
    "        prev_slope = slope_with_next\n",
    "    condensed.append(wayps[-1])\n",
    "    return np.array(condensed)"
   ]
  },
  {
   "cell_type": "code",
   "execution_count": null,
   "metadata": {},
   "outputs": [],
   "source": [
    "condensed_wps = compress_waypoints(waypoints)\n",
    "\n",
    "plt.figure(figsize=(3,3))\n",
    "plt.plot(condensed_wps[:, 0], condensed_wps[:, 1])\n",
    "plt.scatter(condensed_wps[:, 0], condensed_wps[:, 1])"
   ]
  },
  {
   "cell_type": "code",
   "execution_count": null,
   "metadata": {},
   "outputs": [],
   "source": [
    "# add theta dimension to waypoints\n",
    "condensed_wps = np.hstack([condensed_wps, np.zeros((condensed_wps.shape[0], 1))])\n",
    "condensed_wps"
   ]
  },
  {
   "cell_type": "code",
   "execution_count": null,
   "metadata": {},
   "outputs": [],
   "source": [
    "def theta_to_next(wps):\n",
    "    \"\"\"\n",
    "    returns theta for each waypoint which will point to\n",
    "    the next waypoint\n",
    "    \"\"\"\n",
    "    thetas = []\n",
    "    for k in range(len(wps)-1):\n",
    "        dy = wps[k+1][1] - wps[k][1]\n",
    "        dx = wps[k+1][0] - wps[k][0]\n",
    "        theta = math.atan2(dy, dx)\n",
    "        thetas.append(theta)\n",
    "    return np.array(thetas)"
   ]
  },
  {
   "cell_type": "code",
   "execution_count": null,
   "metadata": {},
   "outputs": [],
   "source": [
    "# modify theta dimensions for smoother motion \n",
    "final_wps = condensed_wps.copy()\n",
    "final_wps[:-1, 2] = theta_to_next(final_wps[:])"
   ]
  },
  {
   "cell_type": "code",
   "execution_count": null,
   "metadata": {},
   "outputs": [],
   "source": [
    " # no change in theta for last waypoint necessary\n",
    "final_wps[-1, 2] = final_wps[-2, 2]"
   ]
  },
  {
   "cell_type": "code",
   "execution_count": null,
   "metadata": {},
   "outputs": [],
   "source": [
    "final_wps"
   ]
  },
  {
   "cell_type": "code",
   "execution_count": null,
   "metadata": {},
   "outputs": [],
   "source": [
    "plt.figure(figsize=(3, 3))\n",
    "axes = plt.axes()\n",
    "plt.plot(final_wps[:, 0], final_wps[:, 1])\n",
    "plt.scatter(final_wps[:, 0], final_wps[:, 1])\n",
    "for k in range(len(final_wps)):\n",
    "#     if k == 0:\n",
    "    x, y, theta = final_wps[k]\n",
    "    theta = (theta + 2*np.pi) % (2*np.pi)\n",
    "    y_x = np.tan(theta)\n",
    "    if theta == np.pi/2:\n",
    "        d_x = 0.0001\n",
    "        d_y = 0.1\n",
    "    elif theta == 3*np.pi/2:\n",
    "        d_x = 0.0001\n",
    "        d_y = -0.1\n",
    "    elif theta == np.pi:\n",
    "        d_x = -0.1\n",
    "        d_y = 0.0001\n",
    "    elif theta == 2*np.pi:\n",
    "        d_x = 0.1\n",
    "        d_y = 0.0001\n",
    "    elif theta < np.pi/2:\n",
    "        d_x = 0.1 # q1\n",
    "        d_y = y_x * d_x\n",
    "    elif theta > np.pi/2 and theta < np.pi:\n",
    "        # q2\n",
    "        d_x = -0.1\n",
    "        d_y = y_x * d_x\n",
    "    elif theta > np.pi and theta < 3*np.pi/2:\n",
    "        d_x = -0.1 # q3\n",
    "        d_y = y_x * d_x\n",
    "    else:\n",
    "        d_x = 0.1\n",
    "        d_y = y_x * d_x\n",
    "\n",
    "    plt.arrow(x, y, d_x, d_y, head_width=0.1, head_length = 0.1)\n"
   ]
  },
  {
   "cell_type": "code",
   "execution_count": null,
   "metadata": {},
   "outputs": [],
   "source": []
  }
 ],
 "metadata": {
  "kernelspec": {
   "display_name": "base",
   "language": "python",
   "name": "base"
  },
  "language_info": {
   "codemirror_mode": {
    "name": "ipython",
    "version": 3
   },
   "file_extension": ".py",
   "mimetype": "text/x-python",
   "name": "python",
   "nbconvert_exporter": "python",
   "pygments_lexer": "ipython3",
   "version": "3.7.10"
  }
 },
 "nbformat": 4,
 "nbformat_minor": 4
}
